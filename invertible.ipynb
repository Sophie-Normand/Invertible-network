{
  "cells": [
    {
      "cell_type": "markdown",
      "metadata": {
        "id": "RCpUqRmNLr-e"
      },
      "source": [
        "# $i$-RevNet and $i$-ResNet: Minor modifications to get an invertible neural network!"
      ]
    },
    {
      "cell_type": "markdown",
      "metadata": {
        "id": "f7ZEGqfnLr-g"
      },
      "source": [
        "Our objective will be to design some neural networks that will be invertible."
      ]
    },
    {
      "cell_type": "code",
      "execution_count": null,
      "metadata": {
        "id": "7wlLcgc3Lr-h"
      },
      "outputs": [],
      "source": [
        "import torch\n",
        "import torch.optim as optim\n",
        "import torch.nn.functional as F\n",
        "import torch.nn as nn"
      ]
    },
    {
      "cell_type": "markdown",
      "metadata": {
        "id": "tQPLR5_jLr-h"
      },
      "source": [
        "We first consider the model architecture given by: (it's a VGG-like model)"
      ]
    },
    {
      "cell_type": "code",
      "execution_count": null,
      "metadata": {
        "id": "_nwOE4zYLr-i"
      },
      "outputs": [],
      "source": [
        "class Net(nn.Module):\n",
        "    def __init__(self):\n",
        "        super(Net, self).__init__()\n",
        "        self.conv1 = nn.Conv2d(16, 16, 7,padding=3)\n",
        "        self.conv2 = nn.Conv2d(16, 16, 7,padding=3)\n",
        "        self.conv3 = nn.Conv2d(16, 16, 7,padding=3)\n",
        "        self.conv4 = nn.Conv2d(16, 16, 7,padding=3)\n",
        "        self.fc = nn.Linear(28*28, 10)\n",
        "    def forward(self, x):\n",
        "        x = F.relu(self.conv1(x))\n",
        "        x = F.relu(self.conv2(x))\n",
        "        x = F.relu(self.conv3(x))\n",
        "        x = F.relu(self.conv4(x))\n",
        "        x = x.view(-1, 28*28)\n",
        "        x = self.fc(x)\n",
        "        return x"
      ]
    },
    {
      "cell_type": "markdown",
      "metadata": {
        "id": "Y8z_0uLeLr-i"
      },
      "source": [
        "The routines to load the data from the dataset are given by:"
      ]
    },
    {
      "cell_type": "code",
      "execution_count": null,
      "metadata": {
        "id": "W0VwJ7uULr-i",
        "colab": {
          "base_uri": "https://localhost:8080/",
          "height": 437,
          "referenced_widgets": [
            "594a13a1700e4757a0363d44069b4c8a",
            "6fe2b62d1df34b52ac8424100774ea4f",
            "78acaea6f85b46a5963ee1ac43fb3275",
            "e021937fc67b44a4a48e657e381b9de0",
            "8b44e813e0684496bee7815bdd08b69a",
            "f19d0b3b46274d459bcea47d4da665dc",
            "4eaefc6a04aa427388c99cf9601cc817",
            "d9f9ae1faade458491b85d0fa8c10b6a",
            "8f76d33898454614b621c478eefc4351",
            "b7ce0dd39e3941f99d8920d8fb1c85fd",
            "a7e6bc24b20f45b29d8860e338685320",
            "ca39ce4aedd540b7b6fa98b605272fa4",
            "4f047698940d4c528e599852c8b3bb80",
            "f9710a9affa74c7288b2dd5653806cfb",
            "4f2ed01ae2af42d48687f824f292aa63",
            "ef7ae4252adf4f7ba36efbee1f80d766",
            "be56902ea8d5489fa33237e07936dfd2",
            "96760d2eeaa74bfdba9b519f1bcf554d",
            "2665df71c96d4f2e8863cf52a7cf04c1",
            "a88bfb43e8124026b878eea89c37b212",
            "a9ddf939160a4c2bbcc09b199db7343d",
            "162900c46ab1426f87c18920d430d132",
            "e6d5e9bb48d84626858167c68e76d8de",
            "8e6baabd7f7c4c1ebebf47c053583171",
            "0495ed89f88a4f849b64b63566f4f7c1",
            "65ff68920e424d98b2cce136868aba23",
            "858e51568bb74a7795d1b047219b6aa3",
            "6669f56ed0634ab4984843dc3cfff974",
            "2db76bc5ff0341b9ad02133dcd905416",
            "df82f18070dd46da82a8f2793f071397",
            "31b1592df8ee48a4a5e9c5345c399f41",
            "884dd2ae449944bcb7190c57d8335647",
            "5b807f70b34447e5968ffb24e957208a",
            "97bfba0f7eb849e7bc0584b1ca212d92",
            "61cfdf871e7b4198ab038ea51113d148",
            "fbc4969a1f22469ba2093b2aaa41deea",
            "99a693aa44fc4b30b5c5c93a2a8f57d7",
            "92e0af22ab214e539912486a7a41ff69",
            "3d4412902e8d444986174f2db7334960",
            "1f7036fd6b9f40fc9da784e29d3961b2",
            "71157ec9f2ee4f3dac8732867d831792",
            "a82e0ee8fad04a9b8204901d5ec950cd",
            "64a6133def704760adf772413e0a8041",
            "21031ae863564db8942f2aaf725d557f"
          ]
        },
        "outputId": "9e678336-eca5-4409-c8be-cff53998936c"
      },
      "outputs": [
        {
          "output_type": "stream",
          "name": "stdout",
          "text": [
            "Downloading http://yann.lecun.com/exdb/mnist/train-images-idx3-ubyte.gz\n",
            "Downloading http://yann.lecun.com/exdb/mnist/train-images-idx3-ubyte.gz to ./MNIST/raw/train-images-idx3-ubyte.gz\n"
          ]
        },
        {
          "output_type": "display_data",
          "data": {
            "text/plain": [
              "  0%|          | 0/9912422 [00:00<?, ?it/s]"
            ],
            "application/vnd.jupyter.widget-view+json": {
              "version_major": 2,
              "version_minor": 0,
              "model_id": "594a13a1700e4757a0363d44069b4c8a"
            }
          },
          "metadata": {}
        },
        {
          "output_type": "stream",
          "name": "stdout",
          "text": [
            "Extracting ./MNIST/raw/train-images-idx3-ubyte.gz to ./MNIST/raw\n",
            "\n",
            "Downloading http://yann.lecun.com/exdb/mnist/train-labels-idx1-ubyte.gz\n",
            "Downloading http://yann.lecun.com/exdb/mnist/train-labels-idx1-ubyte.gz to ./MNIST/raw/train-labels-idx1-ubyte.gz\n"
          ]
        },
        {
          "output_type": "display_data",
          "data": {
            "text/plain": [
              "  0%|          | 0/28881 [00:00<?, ?it/s]"
            ],
            "application/vnd.jupyter.widget-view+json": {
              "version_major": 2,
              "version_minor": 0,
              "model_id": "ca39ce4aedd540b7b6fa98b605272fa4"
            }
          },
          "metadata": {}
        },
        {
          "output_type": "stream",
          "name": "stdout",
          "text": [
            "Extracting ./MNIST/raw/train-labels-idx1-ubyte.gz to ./MNIST/raw\n",
            "\n",
            "Downloading http://yann.lecun.com/exdb/mnist/t10k-images-idx3-ubyte.gz\n",
            "Downloading http://yann.lecun.com/exdb/mnist/t10k-images-idx3-ubyte.gz to ./MNIST/raw/t10k-images-idx3-ubyte.gz\n"
          ]
        },
        {
          "output_type": "display_data",
          "data": {
            "text/plain": [
              "  0%|          | 0/1648877 [00:00<?, ?it/s]"
            ],
            "application/vnd.jupyter.widget-view+json": {
              "version_major": 2,
              "version_minor": 0,
              "model_id": "e6d5e9bb48d84626858167c68e76d8de"
            }
          },
          "metadata": {}
        },
        {
          "output_type": "stream",
          "name": "stdout",
          "text": [
            "Extracting ./MNIST/raw/t10k-images-idx3-ubyte.gz to ./MNIST/raw\n",
            "\n",
            "Downloading http://yann.lecun.com/exdb/mnist/t10k-labels-idx1-ubyte.gz\n",
            "Downloading http://yann.lecun.com/exdb/mnist/t10k-labels-idx1-ubyte.gz to ./MNIST/raw/t10k-labels-idx1-ubyte.gz\n"
          ]
        },
        {
          "output_type": "display_data",
          "data": {
            "text/plain": [
              "  0%|          | 0/4542 [00:00<?, ?it/s]"
            ],
            "application/vnd.jupyter.widget-view+json": {
              "version_major": 2,
              "version_minor": 0,
              "model_id": "97bfba0f7eb849e7bc0584b1ca212d92"
            }
          },
          "metadata": {}
        },
        {
          "output_type": "stream",
          "name": "stdout",
          "text": [
            "Extracting ./MNIST/raw/t10k-labels-idx1-ubyte.gz to ./MNIST/raw\n",
            "\n"
          ]
        }
      ],
      "source": [
        "import torchvision\n",
        "import torchvision.transforms as transforms\n",
        "\n",
        "from torch.utils.data import Subset\n",
        "\n",
        "reshape = transforms.Lambda(lambda x:x.view(16,7,7))\n",
        "\n",
        "dataset=torchvision.datasets.MNIST('./', download=True, transform=transforms.Compose([transforms.ToTensor(),reshape]), train=True)\n",
        "train_indices = torch.arange(0,500)#torch.randperm(len(dataset))[:500]\n",
        "train_dataset = Subset(dataset, train_indices)\n",
        "\n",
        "dataset=torchvision.datasets.MNIST('./', download=True, transform=transforms.Compose([transforms.ToTensor(),reshape]), train=False)\n",
        "test_indices = torch.arange(0,10000)#torch.randperm(len(dataset))[:1000]\n",
        "test_dataset = Subset(dataset, test_indices)\n"
      ]
    },
    {
      "cell_type": "markdown",
      "metadata": {
        "id": "S8HrjvAeLr-j"
      },
      "source": [
        "and the dataloader, which is actually used to depile the data is given by:"
      ]
    },
    {
      "cell_type": "code",
      "execution_count": null,
      "metadata": {
        "id": "FiHdEp5tLr-j"
      },
      "outputs": [],
      "source": [
        "trainloader = torch.utils.data.DataLoader(train_dataset, batch_size=64,\n",
        "                                          shuffle=True, num_workers=0)\n",
        "\n",
        "testloader = torch.utils.data.DataLoader(test_dataset, batch_size=16,\n",
        "                                          shuffle=False, num_workers=0)"
      ]
    },
    {
      "cell_type": "markdown",
      "metadata": {
        "id": "iNAvE4zBLr-j"
      },
      "source": [
        "1. Try to visualize some data that we will use along this lab session."
      ]
    },
    {
      "cell_type": "code",
      "source": [
        "print(len(trainloader))\n",
        "print(len(testloader))"
      ],
      "metadata": {
        "colab": {
          "base_uri": "https://localhost:8080/"
        },
        "id": "8fiK9ULIL08g",
        "outputId": "1f83afff-2302-4d91-dd0f-fb35a6b87bf0"
      },
      "execution_count": null,
      "outputs": [
        {
          "output_type": "stream",
          "name": "stdout",
          "text": [
            "8\n",
            "625\n"
          ]
        }
      ]
    },
    {
      "cell_type": "code",
      "execution_count": null,
      "metadata": {
        "colab": {
          "base_uri": "https://localhost:8080/",
          "height": 1000
        },
        "id": "NM6HEafBLr-j",
        "outputId": "ff107b12-76f3-4f22-b6cf-d5a6094528d7"
      },
      "outputs": [
        {
          "output_type": "display_data",
          "data": {
            "text/plain": [
              "<Figure size 432x288 with 16 Axes>"
            ],
            "image/png": "[encoded data removed]"
          },
          "metadata": {
            "needs_background": "light"
          }
        },
        {
          "output_type": "display_data",
          "data": {
            "text/plain": [
              "<Figure size 432x288 with 16 Axes>"
            ],
            "image/png": "[encoded data removed]"
          },
          "metadata": {
            "needs_background": "light"
          }
        },
        {
          "output_type": "display_data",
          "data": {
            "text/plain": [
              "<Figure size 432x288 with 16 Axes>"
            ],
            "image/png": "[encoded data removed]"
          },
          "metadata": {
            "needs_background": "light"
          }
        },
        {
          "output_type": "display_data",
          "data": {
            "text/plain": [
              "<Figure size 432x288 with 16 Axes>"
            ],
            "image/png": "[encoded data removed]"
          },
          "metadata": {
            "needs_background": "light"
          }
        },
        {
          "output_type": "display_data",
          "data": {
            "text/plain": [
              "<Figure size 432x288 with 16 Axes>"
            ],
            "image/png": "[encoded data removed]"
          },
          "metadata": {
            "needs_background": "light"
          }
        },
        {
          "output_type": "display_data",
          "data": {
            "text/plain": [
              "<Figure size 432x288 with 16 Axes>"
            ],
            "image/png": "[encoded data removed]"
          },
          "metadata": {
            "needs_background": "light"
          }
        },
        {
          "output_type": "display_data",
          "data": {
            "text/plain": [
              "<Figure size 432x288 with 16 Axes>"
            ],
            "image/png": "[encoded data removed]"
          },
          "metadata": {
            "needs_background": "light"
          }
        },
        {
          "output_type": "display_data",
          "data": {
            "text/plain": [
              "<Figure size 432x288 with 16 Axes>"
            ],
            "image/png": "[encoded data removed]"
          },
          "metadata": {
            "needs_background": "light"
          }
        }
      ],
      "source": [
        "import matplotlib.pyplot as plt\n",
        "import cv2\n",
        "\n",
        "# Vizualisation data\n",
        "for data, lbl in trainloader:\n",
        "  fig, axes = plt.subplots(4, 4)\n",
        "  for i, ax in enumerate(axes.flat):\n",
        "    ax.imshow(data[0][i], cmap='gray')\n",
        "  plt.show()\n",
        "\n"
      ]
    },
    {
      "cell_type": "markdown",
      "metadata": {
        "id": "YId7bAYfLr-j"
      },
      "source": [
        "2. Write a train function and a test function on this dataset. Train the neural network, and plot the training loss. __Hint:__ Use https://pytorch.org/tutorials/beginner/blitz/cifar10_tutorial.html ."
      ]
    },
    {
      "cell_type": "code",
      "execution_count": null,
      "metadata": {
        "colab": {
          "base_uri": "https://localhost:8080/",
          "height": 331
        },
        "id": "xzvysVg0Lr-k",
        "outputId": "fcfeffce-93a9-4756-9bf6-612285dd471e"
      },
      "outputs": [
        {
          "output_type": "display_data",
          "data": {
            "text/plain": [
              "<Figure size 432x288 with 1 Axes>"
            ],
            "image/png": "[encoded data removed]"
          },
          "metadata": {
            "needs_background": "light"
          }
        },
        {
          "output_type": "stream",
          "name": "stdout",
          "text": [
            "Accuracy of the network on the 500 train images: 100 %\n",
            "Accuracy of the network on the 500 test images: 82 %\n"
          ]
        }
      ],
      "source": [
        "import numpy as np\n",
        "def train(net, n_epoch=40, learning_rate=0.05):\n",
        "    \n",
        "    criterion = nn.CrossEntropyLoss()\n",
        "    optimizer = optim.SGD(net.parameters(), lr=learning_rate, momentum=0.9)\n",
        "    global_loss = []\n",
        "\n",
        "    for epoch in range(n_epoch):  # loop over the dataset multiple times\n",
        "        #running_loss = 0\n",
        "        for i, data in enumerate(trainloader, 0):\n",
        "            # get the inputs; data is a list of [inputs, labels]\n",
        "            inputs, labels = data\n",
        "            optimizer.zero_grad()\n",
        "            out = net(inputs)\n",
        "            loss = criterion(out, labels)\n",
        "            loss.backward()\n",
        "            optimizer.step()\n",
        "            # running_loss += loss.item()\n",
        "            # if i % 8 == 0: \n",
        "            #     print(f'[{epoch + 1}, {i + 1:5d}] loss: {running_loss / 16:.3f}')\n",
        "            #     running_loss = 0.0\n",
        "        global_loss.append(loss.item())\n",
        "            \n",
        "            # FILL IN HERE\n",
        "    plt.plot(np.arange(n_epoch), global_loss)\n",
        "    plt.xlabel('Epochs')\n",
        "    plt.ylabel('Loss')\n",
        "    plt.title('Evolution of the loss through the epochs')\n",
        "    plt.show()\n",
        "\n",
        "    correct = 0\n",
        "    total = 0\n",
        "    with torch.no_grad():\n",
        "        for data in trainloader:\n",
        "            images, labels = data\n",
        "            outputs = net(images)\n",
        "            _, predicted = torch.max(outputs.data, 1)\n",
        "            total += labels.size(0)\n",
        "            correct += (predicted == labels).sum().item()\n",
        "\n",
        "    print('Accuracy of the network on the 500 train images: %d %%' % (\n",
        "        100 * correct / total))\n",
        "    \n",
        "    return net\n",
        "\n",
        "def test(net):\n",
        "    correct = 0\n",
        "    total = 0\n",
        "    for data in testloader:\n",
        "      images, labels = data\n",
        "      outputs = net(images)\n",
        "      _, predicted = torch.max(outputs.data, 1)\n",
        "      total += labels.size(0)\n",
        "      correct += (predicted == labels).sum().item()\n",
        "\n",
        "    print('Accuracy of the network on the 500 test images: %d %%' % (\n",
        "            100 * correct / total))\n",
        "        \n",
        "net = Net()\n",
        "net = train(net)\n",
        "test(net)"
      ]
    },
    {
      "cell_type": "markdown",
      "metadata": {
        "id": "SeVYutInLr-k"
      },
      "source": [
        "# $i$-RevNets: NNs invertible by constructions\n",
        "3. For a layer $j$, assume the features at layer write $X_j=[x_j,\\tilde x_j]$ where $\\text{dim}(x_j)=n_j$ and $\\text{dim}(\\tilde x_j)=m_j$ , let $F_j:\\mathbb{R}^{n_j}\\rightarrow \\mathbb{R}^{m_{j+1}}$. Propose an invertible $\\Phi_F$ architecture using only $F=(F_1,...F_J)$ and additions. We write $\\mathcal{F}_J=\\cup_{F} \\{\\Phi_{F}\\}$ the set of such neural networks of depth $J$ for any width $m_j,n_j$."
      ]
    },
    {
      "cell_type": "markdown",
      "source": [
        "To construct an invertible neural network using only $F=(F_1,...F_J)$ and additions, we can use the following architecture:\n",
        "\n",
        "1. Split the input features $X_0$ into two parts: $x_0$ and $\\tilde x_0$.\n",
        "2. For $j \\in \\lbrack1,...,J\\rbrack$:\n",
        "- Forward:\n",
        " - $ \\tilde x_{j} = F_j(\\tilde x_{j-1}) + x_j$.\n",
        "- Inverse:\n",
        " - $x_{j} = \\tilde x_{j-1} - F_j(x_{j-1})$.\n",
        "\n",
        "The set of neural networks that can be constructed using this architecture is denoted by $\\mathcal{F}_J$."
      ],
      "metadata": {
        "id": "keRmYX5uMkEq"
      }
    },
    {
      "cell_type": "markdown",
      "metadata": {
        "id": "IDMNt_iLLr-k"
      },
      "source": [
        "4. Write $\\mathcal{F}=\\cup_J \\mathcal{F}_J$. Give a necessary and suffisant condition for $\\mathcal{F}$ to be a group."
      ]
    },
    {
      "cell_type": "markdown",
      "metadata": {
        "id": "9kqmtfmCLr-k"
      },
      "source": [
        "To determine whether $\\mathcal{F}$ is a group, we need to verify that it satisfies the three following axioms:\n",
        "\n",
        "- Identity: \n",
        "The identity neural network is the $i$-RevNet architecture with only identity mappings at each layer.\n",
        "\n",
        "- Associativity: \n",
        "The composition of neural networks in $\\mathcal{F}$ is also an $i$-RevNet architecture, and it is independent of the order of composition.\n",
        "\n",
        "- Invertibility: \n",
        "Let $f^{-1}$ be the inverse of a neural network $f\\in\\mathcal{F}$. $f^{-1}$ is an $i$-RevNet architecture. Thus, the inverse is in $\\mathcal{F}$.\n",
        "\n",
        "We can conclude that $\\mathcal{F}$ is a group if and only if each neural network in $\\mathcal{F}$ has an inverse neural network in $\\mathcal{F}$ denoted $f^{-1}$, ie $\\mathcal{F}$ must be invertible."
      ]
    },
    {
      "cell_type": "markdown",
      "metadata": {
        "id": "yfzFjX-TLr-k"
      },
      "source": [
        "5. Write a function that splits a tensor of size $(batch, chan, N, N)$ into two tensors of size $(batch, chan//2, N, N)$"
      ]
    },
    {
      "cell_type": "code",
      "execution_count": null,
      "metadata": {
        "id": "jUUJMvYcLr-k"
      },
      "outputs": [],
      "source": [
        "class SplitAlongChannels(nn.Module):\n",
        "    def __init__(self):\n",
        "        super(SplitAlongChannels, self).__init__()\n",
        "        pass\n",
        "    def forward(self, x):\n",
        "        batch, c, w, h = x.size()\n",
        "        return (x[:, :c//2, :, :], x[:, c//2:, :, :])\n"
      ]
    },
    {
      "cell_type": "markdown",
      "metadata": {
        "id": "lf6cHlmJLr-l"
      },
      "source": [
        "6. Write the corresponding invertible operation."
      ]
    },
    {
      "cell_type": "code",
      "execution_count": null,
      "metadata": {
        "id": "E5O8Il_ALr-l"
      },
      "outputs": [],
      "source": [
        "class InvertibleLayer(nn.Module):\n",
        "    def __init__(self, kernel_size=7):\n",
        "        super(InvertibleLayer, self).__init__()\n",
        "        self.conv = nn.Conv2d(8, 8, kernel_size , padding=kernel_size//2)\n",
        "\n",
        "    def forward(self, x_in):\n",
        "        x1, x2 = x_in[0], x_in[1] \n",
        "        out = self.conv(x2) + x1\n",
        "        return (x2, out)\n",
        "        \n",
        "    def inverse(self, x_in):\n",
        "        x2, y1 = x_in[0], x_in[1]\n",
        "        x1 = y1 - self.conv(x2)\n",
        "        return (x1, x2)"
      ]
    },
    {
      "cell_type": "markdown",
      "metadata": {
        "id": "Pp4bHzGELr-l"
      },
      "source": [
        "7. Write a class i-RevNet that consists in 4 layers, which is analog to *Net*."
      ]
    },
    {
      "cell_type": "code",
      "execution_count": null,
      "metadata": {
        "id": "xQaApnm1Lr-l"
      },
      "outputs": [],
      "source": [
        "class iRevNet(nn.Module):\n",
        "    def __init__(self):\n",
        "        super(iRevNet, self).__init__()\n",
        "        self.split = SplitAlongChannels()\n",
        "        self.conv1 = InvertibleLayer()\n",
        "        self.conv2 = InvertibleLayer()\n",
        "        self.conv3 = InvertibleLayer()\n",
        "        self.conv4 = InvertibleLayer()\n",
        "        self.fc = nn.Linear(28*28, 10)\n",
        "        self.bn1 = nn.BatchNorm2d(16, momentum=0.9)\n",
        "        \n",
        "    def forward(self, x_in, classif=True):\n",
        "        x = self.split.forward(x_in)\n",
        "        x = self.conv1.forward(x)\n",
        "        x = self.conv2.forward(x)\n",
        "        x = self.conv3.forward(x)\n",
        "        x = self.conv4.forward(x)\n",
        "        x_bij = torch.cat((x[0], x[1]), 1)\n",
        "        if classif:\n",
        "          x = F.relu(self.bn1(x_bij))\n",
        "          x = F.avg_pool2d(x, 1)\n",
        "          x = x.view(-1, 28*28)\n",
        "          x = self.fc(x)\n",
        "        return x\n",
        "    \n",
        "    def inverse(self, x_in):\n",
        "        #x = self.split.inverse(x_in)\n",
        "        x = self.conv4.inverse(x_in)\n",
        "        x = self.conv3.inverse(x)\n",
        "        x = self.conv2.inverse(x)\n",
        "        x = self.conv1.inverse(x)\n",
        "        out = torch.cat((x[0], x[1]), 1)\n",
        "        return out"
      ]
    },
    {
      "cell_type": "markdown",
      "metadata": {
        "id": "LHbgTe46Lr-l"
      },
      "source": [
        "8. Implement and run such architecture using the questions above. Compare the accuracies."
      ]
    },
    {
      "cell_type": "code",
      "execution_count": null,
      "metadata": {
        "id": "Phe7WyJ1Lr-l",
        "colab": {
          "base_uri": "https://localhost:8080/",
          "height": 331
        },
        "outputId": "2aff87e9-559b-4500-ea74-7291bfc11665"
      },
      "outputs": [
        {
          "output_type": "display_data",
          "data": {
            "text/plain": [
              "<Figure size 432x288 with 1 Axes>"
            ],
            "image/png": "[encoded data removed]"
          },
          "metadata": {
            "needs_background": "light"
          }
        },
        {
          "output_type": "stream",
          "name": "stdout",
          "text": [
            "Accuracy of the network on the 500 train images: 100 %\n",
            "Accuracy of the network on the 500 test images: 84 %\n"
          ]
        }
      ],
      "source": [
        "net = iRevNet()\n",
        "net = train(net)\n",
        "test(net)"
      ]
    },
    {
      "cell_type": "markdown",
      "metadata": {
        "id": "ADp0WDSJLr-l"
      },
      "source": [
        "9. Validate on an example that your model is exactly invertible."
      ]
    },
    {
      "cell_type": "code",
      "execution_count": null,
      "metadata": {
        "id": "_I468VRFLr-l",
        "colab": {
          "base_uri": "https://localhost:8080/"
        },
        "outputId": "d00a17ef-3fab-45e0-c58d-45bd0a583202"
      },
      "outputs": [
        {
          "output_type": "stream",
          "name": "stdout",
          "text": [
            "Input size before processing it in the network : torch.Size([1, 16, 7, 7])\n",
            "Sum of distances between out and input :  tensor(-1.0929e-06, grad_fn=<SumBackward0>)  which is almost 0 due to informatic approximation\n",
            "Input size after processing it \"backward\" in the network : torch.Size([1, 16, 7, 7])\n"
          ]
        }
      ],
      "source": [
        "x = torch.randn(1,16,7,7)\n",
        "print('Input size before processing it in the network : {}'.format(x.size()))\n",
        "# Pass forward without classification\n",
        "net = iRevNet()\n",
        "out = net(x, classif=False)\n",
        "\n",
        "# Inverse the output to get the original input\n",
        "x_inv = net.inverse(out)\n",
        "print('Sum of distances between out and input : ', (x_inv[0]-x[0]).sum(), ' which is almost 0 due to informatic approximation')\n",
        "print('Input size after processing it \"backward\" in the network : {}'.format(x_inv.size()))"
      ]
    },
    {
      "cell_type": "markdown",
      "source": [
        "On retrouve exactement notre x initial après avoir inversé notre output, comme attendu notre modèle est exactement inversible."
      ],
      "metadata": {
        "id": "vLcz84rZoLyK"
      }
    },
    {
      "cell_type": "markdown",
      "metadata": {
        "id": "qkvmopoYLr-l"
      },
      "source": [
        "This type of model is directly linked to: https://openreview.net/pdf?id=HJsjkMb0Z."
      ]
    },
    {
      "cell_type": "markdown",
      "metadata": {
        "id": "_5mbs10oLr-l"
      },
      "source": [
        "# $i$-ResNets: a simple modification to get an invertible resnet"
      ]
    },
    {
      "cell_type": "markdown",
      "metadata": {
        "id": "aF-_3twiLr-l"
      },
      "source": [
        "We know consider the following class model, to which we refer as ResNet (see https://arxiv.org/abs/1512.03385):"
      ]
    },
    {
      "cell_type": "code",
      "execution_count": null,
      "metadata": {
        "id": "62A1MsuILr-l"
      },
      "outputs": [],
      "source": [
        "class ResNet(nn.Module):\n",
        "    def __init__(self):\n",
        "        super(ResNet, self).__init__()\n",
        "        self.conv1 = nn.Conv2d(16, 16, 7,padding=3)\n",
        "        self.conv2 = nn.Conv2d(16, 16, 7,padding=3)\n",
        "        self.conv3 = nn.Conv2d(16, 16, 7,padding=3)\n",
        "        self.conv4 = nn.Conv2d(16, 16, 7,padding=3)\n",
        "        self.fc = nn.Linear(28*28, 10)\n",
        "    def forward(self, x):\n",
        "        x = x - F.relu(self.conv1(x))\n",
        "        x = x - F.relu(self.conv2(x))\n",
        "        x = x - F.relu(self.conv3(x))\n",
        "        x = x - F.relu(self.conv4(x))\n",
        "        x = x.view(-1, 28*28)\n",
        "        x = self.fc(x)\n",
        "        return x"
      ]
    },
    {
      "cell_type": "markdown",
      "metadata": {
        "id": "JGgGvJ3_Lr-m"
      },
      "source": [
        "Note that those models have some identity loop, to which we refer as skip-connections, that were introduced in https://arxiv.org/abs/1512.03385."
      ]
    },
    {
      "cell_type": "markdown",
      "metadata": {
        "id": "-haCo1kHLr-m"
      },
      "source": [
        "10. Train the corresponding model."
      ]
    },
    {
      "cell_type": "code",
      "execution_count": null,
      "metadata": {
        "id": "qnDSG329Lr-m",
        "colab": {
          "base_uri": "https://localhost:8080/",
          "height": 331
        },
        "outputId": "b136711a-f1d8-4d8f-8275-3734f25092af"
      },
      "outputs": [
        {
          "output_type": "display_data",
          "data": {
            "text/plain": [
              "<Figure size 432x288 with 1 Axes>"
            ],
            "image/png": "[encoded data removed]"
          },
          "metadata": {
            "needs_background": "light"
          }
        },
        {
          "output_type": "stream",
          "name": "stdout",
          "text": [
            "Accuracy of the network on the 500 train images: 100 %\n",
            "Accuracy of the network on the 500 test images: 85 %\n"
          ]
        }
      ],
      "source": [
        "net=ResNet()\n",
        "net = train(net)\n",
        "test(net)"
      ]
    },
    {
      "cell_type": "markdown",
      "metadata": {
        "id": "L29UuDa8Lr-m"
      },
      "source": [
        "11. Let's consider the layer of a Neural Net given by $x_{j+1}=x_j - F_j x_j$. Propose a condition on $F=(F_1,...,F_J)$ for $\\Phi x$ to be invertible. Propose a simple iterative way to compute the inverse. How many iterations are needed to obtain a precision $\\epsilon$?"
      ]
    },
    {
      "cell_type": "markdown",
      "metadata": {
        "id": "WG_ocUPWLr-m"
      },
      "source": [
        "Consider the layer of a neural network given by $x_{j+1} = x_j - F_j x_j$, where $x_j\\in\\mathbb{R}^{n_j}$ and $F_j\\in\\mathbb{R}^{n_j\\times n_j}$ for $j=1,\\ldots,J$. \n",
        "\n",
        "- To ensure that $\\Phi x$ is invertible, we need to ensure that the Jacobian matrix $J(x)$ of the function $\\Phi x = x_J - \\sum_{j=1}^J F_j(x_j)$ has a non-null determinant.\n",
        "\n",
        "$det(J(x)) = \\prod_{j=1}^J det(I-F_j)$\n",
        "\n",
        "Thus, for $\\Phi x$ to be invertible, we need $\\det(I - F_j) \\neq 0$ for all $j=1,\\ldots,J$.\n",
        "\n",
        "- To compute the inverse of $\\Phi x$, we use an iterative procedure:\n",
        "\n",
        " - Set $y_J = x_J$\n",
        " - For $j=J-1,\\ldots,1$: Compute $x_j = x_{j+1} + F_j(x_j)$\n",
        " - $\\Phi^{-1} x = x_1$\n",
        "\n",
        "- The number of iterations needed to obtain a precision $ɛ$ will depend on the values of $F_j$ and of the input $x$.\n",
        "\n",
        "\n",
        " "
      ]
    },
    {
      "cell_type": "markdown",
      "metadata": {
        "id": "u_wJ9K4mLr-m"
      },
      "source": [
        "12. Let be $N$ an integer,  $x\\in \\ell^2([0,N-1])$. Compute the norm of $W:y\\rightarrow x\\circledast  y$. Deduce a simple renormalization procedure to constraint $\\Vert DF_j\\Vert\\leq\\rho$ for some $0<\\rho<1$."
      ]
    },
    {
      "cell_type": "markdown",
      "metadata": {
        "id": "4guU-hcPLr-m"
      },
      "source": [
        "The norm of $W$ can be computed as follows:\n",
        "\\begin{align*}\n",
        "\\|W\\|^2 &= \\max_{\\|y\\|=1} \\|Wy\\| \\\\\n",
        "&= \\max_{\\|y\\|=1} \\sqrt{\\langle Wy,Wy \\rangle} \\\\\n",
        "&= \\max_{\\|y\\|=1} \\sqrt{\\langle U \\Sigma V^T y,U \\Sigma V^T y \\rangle} \\\\\n",
        "&= \\max_{\\|y\\|=1} \\sqrt{\\langle y,V \\Sigma^2 V^T y \\rangle} \\\\\n",
        "&= \\max_{\\|y\\|=1} \\sqrt{\\langle V^T y, \\Sigma^2 V^T y \\rangle},\n",
        "\\end{align*}\n",
        "Let $z = V^Ty$, thus $\\|z\\|=1$.\n",
        "\n",
        "Then,\n",
        "\\begin{align*}\n",
        "\\|W\\|^2 &= \\max_{\\|z\\|=1} \\sqrt{\\langle z, \\Sigma^2 z \\rangle}\n",
        "\\end{align*}\n",
        "\n",
        "And, $\\sqrt{\\langle z, \\Sigma^2 z \\rangle} = \\sum_{i=0}^{N-1} \\sigma_i^2 z_i^2$, with $\\sum_{i=0}^{N-1} z_i^2=1$.\n",
        "\n",
        "Thus,\n",
        "$\\sqrt{\\langle z, \\Sigma^2 z \\rangle} \\le \\sigma_{N}^2 \\sum_{i=0}^{N-1} z_i^2 = \\sigma_{N}^2$\n",
        "\n",
        "So, $\\|W\\|_2 = |\\sigma_{N}| = \\sigma_{N}$\n",
        "\n",
        "We can then deduce a simple renormalization procedure to constraint $|DF_j|\\leq \\rho$ for $0 < \\rho < 1$, we can simply renormalize by setting $\\frac{\\rho}{\\|W\\|_2}$. \n",
        "\n"
      ]
    },
    {
      "cell_type": "markdown",
      "metadata": {
        "id": "neSiyDiOLr-m"
      },
      "source": [
        "13. Implement this layer and incorporate the normaliztion in the train function. You might want to look at the help of nn.Conv2D to access the weight of the conv. __Hint__: modify a parameter using .data to avoid breaking the tree of computation of pytorch."
      ]
    },
    {
      "cell_type": "code",
      "execution_count": null,
      "metadata": {
        "id": "SnDyNmVDLr-m"
      },
      "outputs": [],
      "source": [
        "class InvertibleResidual(nn.Module):\n",
        "    \n",
        "    def __init__(self, kernel_size=7):\n",
        "        super(InvertibleResidual, self).__init__()\n",
        "        self.conv = nn.Conv2d(16, 16, kernel_size,padding=kernel_size//2)\n",
        "        \n",
        "    def forward(self, x):\n",
        "        return x - F.relu(self.conv(x))\n",
        "    \n",
        "    def normalize(self, rho=0.9):\n",
        "        #weight = self.conv.weight\n",
        "        #sigma = torch.linalg.norm(weight)\n",
        "        #norm = torch.max(torch.ones(1), sigma / rho)\n",
        "        #weight = weight / (norm + 1e-5)  \n",
        "        #return weight\n",
        "        return rho * self.conv.weight.data/(torch.norm(self.conv.weight.data)+1e-5)\n",
        "\n",
        "    \n",
        "    def inverse(self, y):\n",
        "        return y + F.relu(self.conv(y))"
      ]
    },
    {
      "cell_type": "code",
      "execution_count": null,
      "metadata": {
        "id": "xdMAkJ72Lr-m"
      },
      "outputs": [],
      "source": [
        "def train_norm(net, n_epoch=40, learning_rate=0.05):\n",
        "    criterion = nn.CrossEntropyLoss()\n",
        "    optimizer = optim.SGD(net.parameters(), lr=learning_rate, momentum=0.9)\n",
        "    global_loss = []\n",
        "\n",
        "    for epoch in range(n_epoch):  # loop over the dataset multiple times\n",
        "        #running_loss = 0\n",
        "        for i, data in enumerate(trainloader, 0):\n",
        "            # get the inputs; data is a list of [inputs, labels]\n",
        "            inputs, labels = data\n",
        "            optimizer.zero_grad()\n",
        "            net = net.normalize()\n",
        "            out = net.forward(inputs)\n",
        "            loss = criterion(out, labels)\n",
        "            loss.backward()\n",
        "            optimizer.step()\n",
        "            # running_loss += loss.item()\n",
        "            # if i % 8 == 0: \n",
        "            #     print(f'[{epoch + 1}, {i + 1:5d}] loss: {running_loss / 16:.3f}')\n",
        "            #     running_loss = 0.0\n",
        "        global_loss.append(loss.item())\n",
        "            \n",
        "    plt.plot(np.arange(n_epoch), global_loss)\n",
        "    plt.xlabel('Epochs')\n",
        "    plt.ylabel('Loss')\n",
        "    plt.title('Evolution of the loss through the epochs')\n",
        "    plt.show()\n",
        "\n",
        "    correct = 0\n",
        "    total = 0\n",
        "    with torch.no_grad():\n",
        "        for data in trainloader:\n",
        "            images, labels = data\n",
        "            outputs = net(images)\n",
        "            _, predicted = torch.max(outputs.data, 1)\n",
        "            total += labels.size(0)\n",
        "            correct += (predicted == labels).sum().item()\n",
        "\n",
        "    print('Accuracy of the network on the 500 train images: %d %%' % (\n",
        "        100 * correct / total))\n",
        "    \n",
        "    return net\n",
        "\n",
        "def test(net):\n",
        "    correct = 0\n",
        "    total = 0\n",
        "    for data in testloader:\n",
        "      images, labels = data\n",
        "      outputs = net(images)\n",
        "      _, predicted = torch.max(outputs.data, 1)\n",
        "      total += labels.size(0)\n",
        "      correct += (predicted == labels).sum().item()\n",
        "\n",
        "    print('Accuracy of the network on the 500 test images: %d %%' % (\n",
        "            100 * correct / total))\n",
        "    \n",
        "    return net"
      ]
    },
    {
      "cell_type": "markdown",
      "metadata": {
        "id": "PjcuIpHkLr-m"
      },
      "source": [
        "14. Write a class i-ResNet, and train it."
      ]
    },
    {
      "cell_type": "code",
      "execution_count": null,
      "metadata": {
        "id": "tvgoDjh_Lr-m"
      },
      "outputs": [],
      "source": [
        "class iResNet(nn.Module):\n",
        "    def __init__(self):\n",
        "        super(iResNet, self).__init__()\n",
        "        self.conv1 = InvertibleResidual()\n",
        "        self.conv2 = InvertibleResidual()\n",
        "        self.conv3 = InvertibleResidual()\n",
        "        self.conv4 = InvertibleResidual()\n",
        "        self.fc = nn.Linear(28*28, 10)\n",
        "    \n",
        "    def normalize(self, rho=0.9):\n",
        "        self.conv1.weight = self.conv1.normalize()\n",
        "        self.conv2.weight = self.conv2.normalize()\n",
        "        self.conv3.weight = self.conv3.normalize()\n",
        "        self.conv4.weight = self.conv4.normalize()\n",
        "        return self\n",
        "\n",
        "    def forward(self, x_in, classif=True):\n",
        "        x = self.conv1.forward(x_in)\n",
        "        x = self.conv2.forward(x)\n",
        "        x = self.conv3.forward(x)\n",
        "        x = self.conv4.forward(x)\n",
        "        if classif:\n",
        "          x = x.view(-1, 28*28)\n",
        "          x = self.fc(x)\n",
        "        return x\n",
        "\n",
        "    \n",
        "    def inverse(self, x_in):\n",
        "        x = self.conv4.inverse(x_in)\n",
        "        x = self.conv3.inverse(x)\n",
        "        x = self.conv2.inverse(x)\n",
        "        x = self.conv1.inverse(x)\n",
        "        return x\n"
      ]
    },
    {
      "cell_type": "code",
      "execution_count": null,
      "metadata": {
        "id": "KLzlyUFwLr-m",
        "colab": {
          "base_uri": "https://localhost:8080/",
          "height": 605
        },
        "outputId": "66a28748-215a-4a8b-98b7-bacee7e94b5d"
      },
      "outputs": [
        {
          "output_type": "display_data",
          "data": {
            "text/plain": [
              "<Figure size 432x288 with 1 Axes>"
            ],
            "image/png": "[encoded data removed]"
          },
          "metadata": {
            "needs_background": "light"
          }
        },
        {
          "output_type": "stream",
          "name": "stdout",
          "text": [
            "Accuracy of the network on the 500 train images: 100 %\n",
            "Accuracy of the network on the 500 test images: 86 %\n"
          ]
        },
        {
          "output_type": "execute_result",
          "data": {
            "text/plain": [
              "iResNet(\n",
              "  (conv1): InvertibleResidual(\n",
              "    (conv): Conv2d(16, 16, kernel_size=(7, 7), stride=(1, 1), padding=(3, 3))\n",
              "  )\n",
              "  (conv2): InvertibleResidual(\n",
              "    (conv): Conv2d(16, 16, kernel_size=(7, 7), stride=(1, 1), padding=(3, 3))\n",
              "  )\n",
              "  (conv3): InvertibleResidual(\n",
              "    (conv): Conv2d(16, 16, kernel_size=(7, 7), stride=(1, 1), padding=(3, 3))\n",
              "  )\n",
              "  (conv4): InvertibleResidual(\n",
              "    (conv): Conv2d(16, 16, kernel_size=(7, 7), stride=(1, 1), padding=(3, 3))\n",
              "  )\n",
              "  (fc): Linear(in_features=784, out_features=10, bias=True)\n",
              ")"
            ]
          },
          "metadata": {},
          "execution_count": 25
        }
      ],
      "source": [
        "net = iResNet()\n",
        "net = train_norm(net)\n",
        "test(net)"
      ]
    },
    {
      "cell_type": "markdown",
      "metadata": {
        "id": "uPCDru_ILr-m"
      },
      "source": [
        "15. Verify the invertibility of the final model."
      ]
    },
    {
      "cell_type": "code",
      "execution_count": null,
      "metadata": {
        "id": "GJ36kBp0Lr-m",
        "colab": {
          "base_uri": "https://localhost:8080/"
        },
        "outputId": "21f23ed2-d589-48c7-cb06-26f21fd5572a"
      },
      "outputs": [
        {
          "output_type": "stream",
          "name": "stdout",
          "text": [
            "Input size before processing it in the network : torch.Size([1, 16, 7, 7])\n",
            "Sum of distances between out and input :  tensor(31.1229, grad_fn=<SumBackward0>)  which is way higher than the exact inversibility of iRevNet but it still is great\n",
            "Input size after processing it \"backward\" in the network : torch.Size([1, 16, 7, 7])\n"
          ]
        }
      ],
      "source": [
        "x = torch.randn(1,16,7,7)\n",
        "print('Input size before processing it in the network : {}'.format(x.size()))\n",
        "# Pass forward without classification\n",
        "net = iResNet().normalize()\n",
        "out = net(x, classif=False)\n",
        "\n",
        "# Inverse the output to get the original input\n",
        "x_inv = net.inverse(out)\n",
        "print('Sum of distances between out and input : ', (x_inv[0]-x[0]).sum(), ' which is way higher than the exact inversibility of iRevNet but it still is great')\n",
        "print('Input size after processing it \"backward\" in the network : {}'.format(x_inv.size()))"
      ]
    },
    {
      "cell_type": "markdown",
      "metadata": {
        "id": "7lEYn1qFLr-m"
      },
      "source": [
        "This type of model is quite discussed in https://arxiv.org/pdf/1811.00995.pdf."
      ]
    },
    {
      "cell_type": "markdown",
      "metadata": {
        "id": "g3ixg5JxLr-n"
      },
      "source": [
        "16. For some invertible neural networks $\\Phi$ and two images $x_0,x_1$, visualize for $0<t<1$ $x_t=\\Phi^{-1}((1-t)\\Phi x_0+t\\Phi x_1$. What do you think?"
      ]
    },
    {
      "cell_type": "code",
      "source": [
        "net = iRevNet()\n",
        "net = train(net)\n",
        "test(net)"
      ],
      "metadata": {
        "colab": {
          "base_uri": "https://localhost:8080/",
          "height": 641
        },
        "id": "El1wfm0E7KAN",
        "outputId": "9be7593d-40b8-4831-da94-8582e90ba584"
      },
      "execution_count": null,
      "outputs": [
        {
          "output_type": "display_data",
          "data": {
            "text/plain": [
              "<Figure size 432x288 with 1 Axes>"
            ],
            "image/png": "[encoded data removed]"
          },
          "metadata": {
            "needs_background": "light"
          }
        },
        {
          "output_type": "stream",
          "name": "stdout",
          "text": [
            "Accuracy of the network on the 500 train images: 100 %\n",
            "Accuracy of the network on the 500 test images: 84 %\n"
          ]
        },
        {
          "output_type": "execute_result",
          "data": {
            "text/plain": [
              "iRevNet(\n",
              "  (split): SplitAlongChannels()\n",
              "  (conv1): InvertibleLayer(\n",
              "    (conv): Conv2d(8, 8, kernel_size=(7, 7), stride=(1, 1), padding=(3, 3))\n",
              "  )\n",
              "  (conv2): InvertibleLayer(\n",
              "    (conv): Conv2d(8, 8, kernel_size=(7, 7), stride=(1, 1), padding=(3, 3))\n",
              "  )\n",
              "  (conv3): InvertibleLayer(\n",
              "    (conv): Conv2d(8, 8, kernel_size=(7, 7), stride=(1, 1), padding=(3, 3))\n",
              "  )\n",
              "  (conv4): InvertibleLayer(\n",
              "    (conv): Conv2d(8, 8, kernel_size=(7, 7), stride=(1, 1), padding=(3, 3))\n",
              "  )\n",
              "  (fc): Linear(in_features=784, out_features=10, bias=True)\n",
              "  (bn1): BatchNorm2d(16, eps=1e-05, momentum=0.9, affine=True, track_running_stats=True)\n",
              ")"
            ]
          },
          "metadata": {},
          "execution_count": 140
        }
      ]
    },
    {
      "cell_type": "code",
      "source": [
        "# First test with iRevNet\n",
        "import matplotlib.pyplot as plt\n",
        "import numpy as np\n",
        "\n",
        "im1 = test_dataset[0][0].unsqueeze(0)\n",
        "im2 = test_dataset[1][0].unsqueeze(0)\n",
        "\n",
        "fig, axes = plt.subplots(4, 4, figsize=(15, 10))\n",
        "for i, ax in enumerate(axes.flat):\n",
        "  t = i/15\n",
        "  im_t = net.inverse([(1-t)*net(im1, classif=False)[i]+t*net(im2, classif=False)[i] for i in range(2)])\n",
        "  ax.imshow(im_t.detach().numpy()[0].reshape(1, 28, 28)[0], cmap='gray')\n",
        "plt.show()\n"
      ],
      "metadata": {
        "id": "Jg2NsOKyNvjE",
        "colab": {
          "base_uri": "https://localhost:8080/",
          "height": 593
        },
        "outputId": "9e4c3b4d-e6d6-44bd-ad5e-a5d5c9f707dd"
      },
      "execution_count": null,
      "outputs": [
        {
          "output_type": "display_data",
          "data": {
            "text/plain": [
              "<Figure size 1080x720 with 16 Axes>"
            ],
            "image/png": "[encoded data removed]"
          },
          "metadata": {
            "needs_background": "light"
          }
        }
      ]
    },
    {
      "cell_type": "code",
      "source": [
        "net = iResNet().normalize()\n",
        "net = train_norm(net)\n",
        "test(net)"
      ],
      "metadata": {
        "colab": {
          "base_uri": "https://localhost:8080/",
          "height": 605
        },
        "id": "eLGL9rn4jFCG",
        "outputId": "39265a73-f00f-40b3-a570-ab12fff6690d"
      },
      "execution_count": null,
      "outputs": [
        {
          "output_type": "display_data",
          "data": {
            "text/plain": [
              "<Figure size 432x288 with 1 Axes>"
            ],
            "image/png": "[encoded data removed]"
          },
          "metadata": {
            "needs_background": "light"
          }
        },
        {
          "output_type": "stream",
          "name": "stdout",
          "text": [
            "Accuracy of the network on the 500 train images: 100 %\n",
            "Accuracy of the network on the 500 test images: 86 %\n"
          ]
        },
        {
          "output_type": "execute_result",
          "data": {
            "text/plain": [
              "iResNet(\n",
              "  (conv1): InvertibleResidual(\n",
              "    (conv): Conv2d(16, 16, kernel_size=(7, 7), stride=(1, 1), padding=(3, 3))\n",
              "  )\n",
              "  (conv2): InvertibleResidual(\n",
              "    (conv): Conv2d(16, 16, kernel_size=(7, 7), stride=(1, 1), padding=(3, 3))\n",
              "  )\n",
              "  (conv3): InvertibleResidual(\n",
              "    (conv): Conv2d(16, 16, kernel_size=(7, 7), stride=(1, 1), padding=(3, 3))\n",
              "  )\n",
              "  (conv4): InvertibleResidual(\n",
              "    (conv): Conv2d(16, 16, kernel_size=(7, 7), stride=(1, 1), padding=(3, 3))\n",
              "  )\n",
              "  (fc): Linear(in_features=784, out_features=10, bias=True)\n",
              ")"
            ]
          },
          "metadata": {},
          "execution_count": 142
        }
      ]
    },
    {
      "cell_type": "code",
      "source": [
        "# Second test with iResNet\n",
        "\n",
        "import matplotlib.pyplot as plt\n",
        "import numpy as np\n",
        "\n",
        "im1 = test_dataset[0][0].unsqueeze(0)\n",
        "im2 = test_dataset[1][0].unsqueeze(0)\n",
        "\n",
        "fig, axes = plt.subplots(4, 4, figsize=(15, 10))\n",
        "for i, ax in enumerate(axes.flat):\n",
        "  t = i/15\n",
        "  im_t = net.inverse((1-t)*net(im1, classif=False)+t*net(im2, classif=False))\n",
        "  ax.imshow(im_t.detach().numpy()[0].reshape(28, 28), cmap='gray')\n",
        "plt.show()\n",
        "\n",
        "# We can observe that the diffences between the exact inversibility of the irevnet and the noisy inversibility of iresnet"
      ],
      "metadata": {
        "colab": {
          "base_uri": "https://localhost:8080/",
          "height": 593
        },
        "id": "Cnzbc1oCjS4r",
        "outputId": "10759d7d-6ade-473e-8fba-b119820f73f5"
      },
      "execution_count": null,
      "outputs": [
        {
          "output_type": "display_data",
          "data": {
            "text/plain": [
              "<Figure size 1080x720 with 16 Axes>"
            ],
            "image/png": "[encoded data removed]"
          },
          "metadata": {
            "needs_background": "light"
          }
        }
      ]
    },
    {
      "cell_type": "markdown",
      "source": [
        "We can observe that the diffences between the exact inversibility of the i-Revnet and the noisy inversibility of i-Resnet."
      ],
      "metadata": {
        "id": "xFihiexfXHPa"
      }
    },
    {
      "cell_type": "markdown",
      "metadata": {
        "id": "YxFSpllMLr-n"
      },
      "source": [
        "17. Explain the major differences between the two approaches, the pros and the cons."
      ]
    },
    {
      "cell_type": "markdown",
      "source": [
        "- **Architecture:** \n",
        "\n",
        "i-Revnet uses reversible blocks, that are exactly invertible. It consists on building a cascade of homeomorphic layers, which preserves the mutual information between input and hidden representation and shows that the loss of information can only occur at the final layer. i-RevNets retain all information about the input signal in any of their intermediate representations up until the last layer.\n",
        "\n",
        "Whereas i-Resnet is uses skip connections, thus this architecture is more flexible. i- ResNets can be constructed by simply changing the normalization scheme of standard ResNets. This approach allows unconstrained architectures for each residual block, while only requiring a Lipschitz constant smaller than one for each block.\n",
        "\n",
        "\n",
        "i-Resnet has a free-form, which is not the case of i-Revnet.\n",
        "\n",
        "- **Invertibility:** \n",
        "\n",
        "i-Revnet are exactly invertible. i-Resnet are approximately invertible, as we can see in the question 16. \n",
        "\n",
        "Weight Normalization makes the linear layers injective by dividing the weights of each filter by their norm. This division allows each filter to be projected onto a unit sphere centred at the origin of the weight space.\n",
        "\n",
        "This method ensures that the norm of the inputs is preserved after multiplication with the normalised weights. This means that each input has a unique output, which is an essential property for the layer to be injective.\n",
        "\n",
        "To be more precise, let $x \\in \\mathbb{R}^n$ be an input vector and $W \\in \\mathbb{R}^{m \\times n}$ the matrix of non-normalized weights of a linear layer. The output $y \\in \\mathbb{R}^m$ of this layer is calculated by the matrix multiplication $y = Wx$. With the normalization, as we have seen before,\n",
        "$y = \\frac{\\rho W}{\\sqrt{(W^TW)}}x = \\frac{\\rho W}{\\sigma_{max}}x$ if $\\frac{\\rho}{\\sigma_{max}} < 1$\n",
        "\n",
        "As the matrix $W^\\top W$ is symmetric positive definite, it is diagonalizable and its eigenvalues are positive. Therefore, $\\sqrt{(W^\\top W) }$ is a positive quantity, which guarantees that the normalised output is well defined and unique for each input.\n",
        "\n",
        "\n",
        "The normalization that can make iResNet invertible affect the network pretty badly. Indeed, the calculation of the inverse of the normalized weight matrix are pretty expensive in terms of computation time and memory and it may also introduce numerical and stability problems.\n",
        "\n",
        "- **Normalization:** \n",
        "\n",
        "i-Revnet do not use normalization because it has to be exactly invertible. Whereas i-Resnet use normalization, it can thus reduce overfitting. This weight normalization can affect the performances of the network because this technique can change the curvature of the error surface, which can make optimization more difficult. Indeed, the gradients of the error with respect to the parameters are modified by the normalisation, which can make the gradients les regular and stable during optimisation. This normalization can also introduce biases by affecting the distribution of activations of the previous layer, which can limit the ability of the network to learn accurate representations which is a con for the iResNet.\n",
        "\n",
        "\n",
        "- **Exact Likelihood:**\n",
        "\n",
        "i-Revnet computes exact likelihood, while i-Resnet computes non-exact likelihood.\n",
        "i-ResNet can be trained as maximum likelihood generative model on unlabeled data. To compute likelihood, we introduce a tractable approximation to the Jacobian determinant of a residual block.\n"
      ],
      "metadata": {
        "id": "TLPWiGK1TthD"
      }
    }
  ],
  "metadata": {
    "kernelspec": {
      "display_name": "Python 3 (ipykernel)",
      "language": "python",
      "name": "python3"
    },
    "language_info": {
      "codemirror_mode": {
        "name": "ipython",
        "version": 3
      },
      "file_extension": ".py",
      "mimetype": "text/x-python",
      "name": "python",
      "nbconvert_exporter": "python",
      "pygments_lexer": "ipython3",
      "version": "3.8.16"
    },
    "colab": {
      "provenance": []
    },
    "widgets": {
      "application/vnd.jupyter.widget-state+json": {
        "594a13a1700e4757a0363d44069b4c8a": {
          "model_module": "@jupyter-widgets/controls",
          "model_name": "HBoxModel",
          "model_module_version": "1.5.0",
          "state": {
            "_dom_classes": [],
            "_model_module": "@jupyter-widgets/controls",
            "_model_module_version": "1.5.0",
            "_model_name": "HBoxModel",
            "_view_count": null,
            "_view_module": "@jupyter-widgets/controls",
            "_view_module_version": "1.5.0",
            "_view_name": "HBoxView",
            "box_style": "",
            "children": [
              "IPY_MODEL_6fe2b62d1df34b52ac8424100774ea4f",
              "IPY_MODEL_78acaea6f85b46a5963ee1ac43fb3275",
              "IPY_MODEL_e021937fc67b44a4a48e657e381b9de0"
            ],
            "layout": "IPY_MODEL_8b44e813e0684496bee7815bdd08b69a"
          }
        },
        "6fe2b62d1df34b52ac8424100774ea4f": {
          "model_module": "@jupyter-widgets/controls",
          "model_name": "HTMLModel",
          "model_module_version": "1.5.0",
          "state": {
            "_dom_classes": [],
            "_model_module": "@jupyter-widgets/controls",
            "_model_module_version": "1.5.0",
            "_model_name": "HTMLModel",
            "_view_count": null,
            "_view_module": "@jupyter-widgets/controls",
            "_view_module_version": "1.5.0",
            "_view_name": "HTMLView",
            "description": "",
            "description_tooltip": null,
            "layout": "IPY_MODEL_f19d0b3b46274d459bcea47d4da665dc",
            "placeholder": "​",
            "style": "IPY_MODEL_4eaefc6a04aa427388c99cf9601cc817",
            "value": "100%"
          }
        },
        "78acaea6f85b46a5963ee1ac43fb3275": {
          "model_module": "@jupyter-widgets/controls",
          "model_name": "FloatProgressModel",
          "model_module_version": "1.5.0",
          "state": {
            "_dom_classes": [],
            "_model_module": "@jupyter-widgets/controls",
            "_model_module_version": "1.5.0",
            "_model_name": "FloatProgressModel",
            "_view_count": null,
            "_view_module": "@jupyter-widgets/controls",
            "_view_module_version": "1.5.0",
            "_view_name": "ProgressView",
            "bar_style": "success",
            "description": "",
            "description_tooltip": null,
            "layout": "IPY_MODEL_d9f9ae1faade458491b85d0fa8c10b6a",
            "max": 9912422,
            "min": 0,
            "orientation": "horizontal",
            "style": "IPY_MODEL_8f76d33898454614b621c478eefc4351",
            "value": 9912422
          }
        },
        "e021937fc67b44a4a48e657e381b9de0": {
          "model_module": "@jupyter-widgets/controls",
          "model_name": "HTMLModel",
          "model_module_version": "1.5.0",
          "state": {
            "_dom_classes": [],
            "_model_module": "@jupyter-widgets/controls",
            "_model_module_version": "1.5.0",
            "_model_name": "HTMLModel",
            "_view_count": null,
            "_view_module": "@jupyter-widgets/controls",
            "_view_module_version": "1.5.0",
            "_view_name": "HTMLView",
            "description": "",
            "description_tooltip": null,
            "layout": "IPY_MODEL_b7ce0dd39e3941f99d8920d8fb1c85fd",
            "placeholder": "​",
            "style": "IPY_MODEL_a7e6bc24b20f45b29d8860e338685320",
            "value": " 9912422/9912422 [00:00&lt;00:00, 71417110.67it/s]"
          }
        },
        "8b44e813e0684496bee7815bdd08b69a": {
          "model_module": "@jupyter-widgets/base",
          "model_name": "LayoutModel",
          "model_module_version": "1.2.0",
          "state": {
            "_model_module": "@jupyter-widgets/base",
            "_model_module_version": "1.2.0",
            "_model_name": "LayoutModel",
            "_view_count": null,
            "_view_module": "@jupyter-widgets/base",
            "_view_module_version": "1.2.0",
            "_view_name": "LayoutView",
            "align_content": null,
            "align_items": null,
            "align_self": null,
            "border": null,
            "bottom": null,
            "display": null,
            "flex": null,
            "flex_flow": null,
            "grid_area": null,
            "grid_auto_columns": null,
            "grid_auto_flow": null,
            "grid_auto_rows": null,
            "grid_column": null,
            "grid_gap": null,
            "grid_row": null,
            "grid_template_areas": null,
            "grid_template_columns": null,
            "grid_template_rows": null,
            "height": null,
            "justify_content": null,
            "justify_items": null,
            "left": null,
            "margin": null,
            "max_height": null,
            "max_width": null,
            "min_height": null,
            "min_width": null,
            "object_fit": null,
            "object_position": null,
            "order": null,
            "overflow": null,
            "overflow_x": null,
            "overflow_y": null,
            "padding": null,
            "right": null,
            "top": null,
            "visibility": null,
            "width": null
          }
        },
        "f19d0b3b46274d459bcea47d4da665dc": {
          "model_module": "@jupyter-widgets/base",
          "model_name": "LayoutModel",
          "model_module_version": "1.2.0",
          "state": {
            "_model_module": "@jupyter-widgets/base",
            "_model_module_version": "1.2.0",
            "_model_name": "LayoutModel",
            "_view_count": null,
            "_view_module": "@jupyter-widgets/base",
            "_view_module_version": "1.2.0",
            "_view_name": "LayoutView",
            "align_content": null,
            "align_items": null,
            "align_self": null,
            "border": null,
            "bottom": null,
            "display": null,
            "flex": null,
            "flex_flow": null,
            "grid_area": null,
            "grid_auto_columns": null,
            "grid_auto_flow": null,
            "grid_auto_rows": null,
            "grid_column": null,
            "grid_gap": null,
            "grid_row": null,
            "grid_template_areas": null,
            "grid_template_columns": null,
            "grid_template_rows": null,
            "height": null,
            "justify_content": null,
            "justify_items": null,
            "left": null,
            "margin": null,
            "max_height": null,
            "max_width": null,
            "min_height": null,
            "min_width": null,
            "object_fit": null,
            "object_position": null,
            "order": null,
            "overflow": null,
            "overflow_x": null,
            "overflow_y": null,
            "padding": null,
            "right": null,
            "top": null,
            "visibility": null,
            "width": null
          }
        },
        "4eaefc6a04aa427388c99cf9601cc817": {
          "model_module": "@jupyter-widgets/controls",
          "model_name": "DescriptionStyleModel",
          "model_module_version": "1.5.0",
          "state": {
            "_model_module": "@jupyter-widgets/controls",
            "_model_module_version": "1.5.0",
            "_model_name": "DescriptionStyleModel",
            "_view_count": null,
            "_view_module": "@jupyter-widgets/base",
            "_view_module_version": "1.2.0",
            "_view_name": "StyleView",
            "description_width": ""
          }
        },
        "d9f9ae1faade458491b85d0fa8c10b6a": {
          "model_module": "@jupyter-widgets/base",
          "model_name": "LayoutModel",
          "model_module_version": "1.2.0",
          "state": {
            "_model_module": "@jupyter-widgets/base",
            "_model_module_version": "1.2.0",
            "_model_name": "LayoutModel",
            "_view_count": null,
            "_view_module": "@jupyter-widgets/base",
            "_view_module_version": "1.2.0",
            "_view_name": "LayoutView",
            "align_content": null,
            "align_items": null,
            "align_self": null,
            "border": null,
            "bottom": null,
            "display": null,
            "flex": null,
            "flex_flow": null,
            "grid_area": null,
            "grid_auto_columns": null,
            "grid_auto_flow": null,
            "grid_auto_rows": null,
            "grid_column": null,
            "grid_gap": null,
            "grid_row": null,
            "grid_template_areas": null,
            "grid_template_columns": null,
            "grid_template_rows": null,
            "height": null,
            "justify_content": null,
            "justify_items": null,
            "left": null,
            "margin": null,
            "max_height": null,
            "max_width": null,
            "min_height": null,
            "min_width": null,
            "object_fit": null,
            "object_position": null,
            "order": null,
            "overflow": null,
            "overflow_x": null,
            "overflow_y": null,
            "padding": null,
            "right": null,
            "top": null,
            "visibility": null,
            "width": null
          }
        },
        "8f76d33898454614b621c478eefc4351": {
          "model_module": "@jupyter-widgets/controls",
          "model_name": "ProgressStyleModel",
          "model_module_version": "1.5.0",
          "state": {
            "_model_module": "@jupyter-widgets/controls",
            "_model_module_version": "1.5.0",
            "_model_name": "ProgressStyleModel",
            "_view_count": null,
            "_view_module": "@jupyter-widgets/base",
            "_view_module_version": "1.2.0",
            "_view_name": "StyleView",
            "bar_color": null,
            "description_width": ""
          }
        },
        "b7ce0dd39e3941f99d8920d8fb1c85fd": {
          "model_module": "@jupyter-widgets/base",
          "model_name": "LayoutModel",
          "model_module_version": "1.2.0",
          "state": {
            "_model_module": "@jupyter-widgets/base",
            "_model_module_version": "1.2.0",
            "_model_name": "LayoutModel",
            "_view_count": null,
            "_view_module": "@jupyter-widgets/base",
            "_view_module_version": "1.2.0",
            "_view_name": "LayoutView",
            "align_content": null,
            "align_items": null,
            "align_self": null,
            "border": null,
            "bottom": null,
            "display": null,
            "flex": null,
            "flex_flow": null,
            "grid_area": null,
            "grid_auto_columns": null,
            "grid_auto_flow": null,
            "grid_auto_rows": null,
            "grid_column": null,
            "grid_gap": null,
            "grid_row": null,
            "grid_template_areas": null,
            "grid_template_columns": null,
            "grid_template_rows": null,
            "height": null,
            "justify_content": null,
            "justify_items": null,
            "left": null,
            "margin": null,
            "max_height": null,
            "max_width": null,
            "min_height": null,
            "min_width": null,
            "object_fit": null,
            "object_position": null,
            "order": null,
            "overflow": null,
            "overflow_x": null,
            "overflow_y": null,
            "padding": null,
            "right": null,
            "top": null,
            "visibility": null,
            "width": null
          }
        },
        "a7e6bc24b20f45b29d8860e338685320": {
          "model_module": "@jupyter-widgets/controls",
          "model_name": "DescriptionStyleModel",
          "model_module_version": "1.5.0",
          "state": {
            "_model_module": "@jupyter-widgets/controls",
            "_model_module_version": "1.5.0",
            "_model_name": "DescriptionStyleModel",
            "_view_count": null,
            "_view_module": "@jupyter-widgets/base",
            "_view_module_version": "1.2.0",
            "_view_name": "StyleView",
            "description_width": ""
          }
        },
        "ca39ce4aedd540b7b6fa98b605272fa4": {
          "model_module": "@jupyter-widgets/controls",
          "model_name": "HBoxModel",
          "model_module_version": "1.5.0",
          "state": {
            "_dom_classes": [],
            "_model_module": "@jupyter-widgets/controls",
            "_model_module_version": "1.5.0",
            "_model_name": "HBoxModel",
            "_view_count": null,
            "_view_module": "@jupyter-widgets/controls",
            "_view_module_version": "1.5.0",
            "_view_name": "HBoxView",
            "box_style": "",
            "children": [
              "IPY_MODEL_4f047698940d4c528e599852c8b3bb80",
              "IPY_MODEL_f9710a9affa74c7288b2dd5653806cfb",
              "IPY_MODEL_4f2ed01ae2af42d48687f824f292aa63"
            ],
            "layout": "IPY_MODEL_ef7ae4252adf4f7ba36efbee1f80d766"
          }
        },
        "4f047698940d4c528e599852c8b3bb80": {
          "model_module": "@jupyter-widgets/controls",
          "model_name": "HTMLModel",
          "model_module_version": "1.5.0",
          "state": {
            "_dom_classes": [],
            "_model_module": "@jupyter-widgets/controls",
            "_model_module_version": "1.5.0",
            "_model_name": "HTMLModel",
            "_view_count": null,
            "_view_module": "@jupyter-widgets/controls",
            "_view_module_version": "1.5.0",
            "_view_name": "HTMLView",
            "description": "",
            "description_tooltip": null,
            "layout": "IPY_MODEL_be56902ea8d5489fa33237e07936dfd2",
            "placeholder": "​",
            "style": "IPY_MODEL_96760d2eeaa74bfdba9b519f1bcf554d",
            "value": "100%"
          }
        },
        "f9710a9affa74c7288b2dd5653806cfb": {
          "model_module": "@jupyter-widgets/controls",
          "model_name": "FloatProgressModel",
          "model_module_version": "1.5.0",
          "state": {
            "_dom_classes": [],
            "_model_module": "@jupyter-widgets/controls",
            "_model_module_version": "1.5.0",
            "_model_name": "FloatProgressModel",
            "_view_count": null,
            "_view_module": "@jupyter-widgets/controls",
            "_view_module_version": "1.5.0",
            "_view_name": "ProgressView",
            "bar_style": "success",
            "description": "",
            "description_tooltip": null,
            "layout": "IPY_MODEL_2665df71c96d4f2e8863cf52a7cf04c1",
            "max": 28881,
            "min": 0,
            "orientation": "horizontal",
            "style": "IPY_MODEL_a88bfb43e8124026b878eea89c37b212",
            "value": 28881
          }
        },
        "4f2ed01ae2af42d48687f824f292aa63": {
          "model_module": "@jupyter-widgets/controls",
          "model_name": "HTMLModel",
          "model_module_version": "1.5.0",
          "state": {
            "_dom_classes": [],
            "_model_module": "@jupyter-widgets/controls",
            "_model_module_version": "1.5.0",
            "_model_name": "HTMLModel",
            "_view_count": null,
            "_view_module": "@jupyter-widgets/controls",
            "_view_module_version": "1.5.0",
            "_view_name": "HTMLView",
            "description": "",
            "description_tooltip": null,
            "layout": "IPY_MODEL_a9ddf939160a4c2bbcc09b199db7343d",
            "placeholder": "​",
            "style": "IPY_MODEL_162900c46ab1426f87c18920d430d132",
            "value": " 28881/28881 [00:00&lt;00:00, 1194055.08it/s]"
          }
        },
        "ef7ae4252adf4f7ba36efbee1f80d766": {
          "model_module": "@jupyter-widgets/base",
          "model_name": "LayoutModel",
          "model_module_version": "1.2.0",
          "state": {
            "_model_module": "@jupyter-widgets/base",
            "_model_module_version": "1.2.0",
            "_model_name": "LayoutModel",
            "_view_count": null,
            "_view_module": "@jupyter-widgets/base",
            "_view_module_version": "1.2.0",
            "_view_name": "LayoutView",
            "align_content": null,
            "align_items": null,
            "align_self": null,
            "border": null,
            "bottom": null,
            "display": null,
            "flex": null,
            "flex_flow": null,
            "grid_area": null,
            "grid_auto_columns": null,
            "grid_auto_flow": null,
            "grid_auto_rows": null,
            "grid_column": null,
            "grid_gap": null,
            "grid_row": null,
            "grid_template_areas": null,
            "grid_template_columns": null,
            "grid_template_rows": null,
            "height": null,
            "justify_content": null,
            "justify_items": null,
            "left": null,
            "margin": null,
            "max_height": null,
            "max_width": null,
            "min_height": null,
            "min_width": null,
            "object_fit": null,
            "object_position": null,
            "order": null,
            "overflow": null,
            "overflow_x": null,
            "overflow_y": null,
            "padding": null,
            "right": null,
            "top": null,
            "visibility": null,
            "width": null
          }
        },
        "be56902ea8d5489fa33237e07936dfd2": {
          "model_module": "@jupyter-widgets/base",
          "model_name": "LayoutModel",
          "model_module_version": "1.2.0",
          "state": {
            "_model_module": "@jupyter-widgets/base",
            "_model_module_version": "1.2.0",
            "_model_name": "LayoutModel",
            "_view_count": null,
            "_view_module": "@jupyter-widgets/base",
            "_view_module_version": "1.2.0",
            "_view_name": "LayoutView",
            "align_content": null,
            "align_items": null,
            "align_self": null,
            "border": null,
            "bottom": null,
            "display": null,
            "flex": null,
            "flex_flow": null,
            "grid_area": null,
            "grid_auto_columns": null,
            "grid_auto_flow": null,
            "grid_auto_rows": null,
            "grid_column": null,
            "grid_gap": null,
            "grid_row": null,
            "grid_template_areas": null,
            "grid_template_columns": null,
            "grid_template_rows": null,
            "height": null,
            "justify_content": null,
            "justify_items": null,
            "left": null,
            "margin": null,
            "max_height": null,
            "max_width": null,
            "min_height": null,
            "min_width": null,
            "object_fit": null,
            "object_position": null,
            "order": null,
            "overflow": null,
            "overflow_x": null,
            "overflow_y": null,
            "padding": null,
            "right": null,
            "top": null,
            "visibility": null,
            "width": null
          }
        },
        "96760d2eeaa74bfdba9b519f1bcf554d": {
          "model_module": "@jupyter-widgets/controls",
          "model_name": "DescriptionStyleModel",
          "model_module_version": "1.5.0",
          "state": {
            "_model_module": "@jupyter-widgets/controls",
            "_model_module_version": "1.5.0",
            "_model_name": "DescriptionStyleModel",
            "_view_count": null,
            "_view_module": "@jupyter-widgets/base",
            "_view_module_version": "1.2.0",
            "_view_name": "StyleView",
            "description_width": ""
          }
        },
        "2665df71c96d4f2e8863cf52a7cf04c1": {
          "model_module": "@jupyter-widgets/base",
          "model_name": "LayoutModel",
          "model_module_version": "1.2.0",
          "state": {
            "_model_module": "@jupyter-widgets/base",
            "_model_module_version": "1.2.0",
            "_model_name": "LayoutModel",
            "_view_count": null,
            "_view_module": "@jupyter-widgets/base",
            "_view_module_version": "1.2.0",
            "_view_name": "LayoutView",
            "align_content": null,
            "align_items": null,
            "align_self": null,
            "border": null,
            "bottom": null,
            "display": null,
            "flex": null,
            "flex_flow": null,
            "grid_area": null,
            "grid_auto_columns": null,
            "grid_auto_flow": null,
            "grid_auto_rows": null,
            "grid_column": null,
            "grid_gap": null,
            "grid_row": null,
            "grid_template_areas": null,
            "grid_template_columns": null,
            "grid_template_rows": null,
            "height": null,
            "justify_content": null,
            "justify_items": null,
            "left": null,
            "margin": null,
            "max_height": null,
            "max_width": null,
            "min_height": null,
            "min_width": null,
            "object_fit": null,
            "object_position": null,
            "order": null,
            "overflow": null,
            "overflow_x": null,
            "overflow_y": null,
            "padding": null,
            "right": null,
            "top": null,
            "visibility": null,
            "width": null
          }
        },
        "a88bfb43e8124026b878eea89c37b212": {
          "model_module": "@jupyter-widgets/controls",
          "model_name": "ProgressStyleModel",
          "model_module_version": "1.5.0",
          "state": {
            "_model_module": "@jupyter-widgets/controls",
            "_model_module_version": "1.5.0",
            "_model_name": "ProgressStyleModel",
            "_view_count": null,
            "_view_module": "@jupyter-widgets/base",
            "_view_module_version": "1.2.0",
            "_view_name": "StyleView",
            "bar_color": null,
            "description_width": ""
          }
        },
        "a9ddf939160a4c2bbcc09b199db7343d": {
          "model_module": "@jupyter-widgets/base",
          "model_name": "LayoutModel",
          "model_module_version": "1.2.0",
          "state": {
            "_model_module": "@jupyter-widgets/base",
            "_model_module_version": "1.2.0",
            "_model_name": "LayoutModel",
            "_view_count": null,
            "_view_module": "@jupyter-widgets/base",
            "_view_module_version": "1.2.0",
            "_view_name": "LayoutView",
            "align_content": null,
            "align_items": null,
            "align_self": null,
            "border": null,
            "bottom": null,
            "display": null,
            "flex": null,
            "flex_flow": null,
            "grid_area": null,
            "grid_auto_columns": null,
            "grid_auto_flow": null,
            "grid_auto_rows": null,
            "grid_column": null,
            "grid_gap": null,
            "grid_row": null,
            "grid_template_areas": null,
            "grid_template_columns": null,
            "grid_template_rows": null,
            "height": null,
            "justify_content": null,
            "justify_items": null,
            "left": null,
            "margin": null,
            "max_height": null,
            "max_width": null,
            "min_height": null,
            "min_width": null,
            "object_fit": null,
            "object_position": null,
            "order": null,
            "overflow": null,
            "overflow_x": null,
            "overflow_y": null,
            "padding": null,
            "right": null,
            "top": null,
            "visibility": null,
            "width": null
          }
        },
        "162900c46ab1426f87c18920d430d132": {
          "model_module": "@jupyter-widgets/controls",
          "model_name": "DescriptionStyleModel",
          "model_module_version": "1.5.0",
          "state": {
            "_model_module": "@jupyter-widgets/controls",
            "_model_module_version": "1.5.0",
            "_model_name": "DescriptionStyleModel",
            "_view_count": null,
            "_view_module": "@jupyter-widgets/base",
            "_view_module_version": "1.2.0",
            "_view_name": "StyleView",
            "description_width": ""
          }
        },
        "e6d5e9bb48d84626858167c68e76d8de": {
          "model_module": "@jupyter-widgets/controls",
          "model_name": "HBoxModel",
          "model_module_version": "1.5.0",
          "state": {
            "_dom_classes": [],
            "_model_module": "@jupyter-widgets/controls",
            "_model_module_version": "1.5.0",
            "_model_name": "HBoxModel",
            "_view_count": null,
            "_view_module": "@jupyter-widgets/controls",
            "_view_module_version": "1.5.0",
            "_view_name": "HBoxView",
            "box_style": "",
            "children": [
              "IPY_MODEL_8e6baabd7f7c4c1ebebf47c053583171",
              "IPY_MODEL_0495ed89f88a4f849b64b63566f4f7c1",
              "IPY_MODEL_65ff68920e424d98b2cce136868aba23"
            ],
            "layout": "IPY_MODEL_858e51568bb74a7795d1b047219b6aa3"
          }
        },
        "8e6baabd7f7c4c1ebebf47c053583171": {
          "model_module": "@jupyter-widgets/controls",
          "model_name": "HTMLModel",
          "model_module_version": "1.5.0",
          "state": {
            "_dom_classes": [],
            "_model_module": "@jupyter-widgets/controls",
            "_model_module_version": "1.5.0",
            "_model_name": "HTMLModel",
            "_view_count": null,
            "_view_module": "@jupyter-widgets/controls",
            "_view_module_version": "1.5.0",
            "_view_name": "HTMLView",
            "description": "",
            "description_tooltip": null,
            "layout": "IPY_MODEL_6669f56ed0634ab4984843dc3cfff974",
            "placeholder": "​",
            "style": "IPY_MODEL_2db76bc5ff0341b9ad02133dcd905416",
            "value": "100%"
          }
        },
        "0495ed89f88a4f849b64b63566f4f7c1": {
          "model_module": "@jupyter-widgets/controls",
          "model_name": "FloatProgressModel",
          "model_module_version": "1.5.0",
          "state": {
            "_dom_classes": [],
            "_model_module": "@jupyter-widgets/controls",
            "_model_module_version": "1.5.0",
            "_model_name": "FloatProgressModel",
            "_view_count": null,
            "_view_module": "@jupyter-widgets/controls",
            "_view_module_version": "1.5.0",
            "_view_name": "ProgressView",
            "bar_style": "success",
            "description": "",
            "description_tooltip": null,
            "layout": "IPY_MODEL_df82f18070dd46da82a8f2793f071397",
            "max": 1648877,
            "min": 0,
            "orientation": "horizontal",
            "style": "IPY_MODEL_31b1592df8ee48a4a5e9c5345c399f41",
            "value": 1648877
          }
        },
        "65ff68920e424d98b2cce136868aba23": {
          "model_module": "@jupyter-widgets/controls",
          "model_name": "HTMLModel",
          "model_module_version": "1.5.0",
          "state": {
            "_dom_classes": [],
            "_model_module": "@jupyter-widgets/controls",
            "_model_module_version": "1.5.0",
            "_model_name": "HTMLModel",
            "_view_count": null,
            "_view_module": "@jupyter-widgets/controls",
            "_view_module_version": "1.5.0",
            "_view_name": "HTMLView",
            "description": "",
            "description_tooltip": null,
            "layout": "IPY_MODEL_884dd2ae449944bcb7190c57d8335647",
            "placeholder": "​",
            "style": "IPY_MODEL_5b807f70b34447e5968ffb24e957208a",
            "value": " 1648877/1648877 [00:00&lt;00:00, 22280003.73it/s]"
          }
        },
        "858e51568bb74a7795d1b047219b6aa3": {
          "model_module": "@jupyter-widgets/base",
          "model_name": "LayoutModel",
          "model_module_version": "1.2.0",
          "state": {
            "_model_module": "@jupyter-widgets/base",
            "_model_module_version": "1.2.0",
            "_model_name": "LayoutModel",
            "_view_count": null,
            "_view_module": "@jupyter-widgets/base",
            "_view_module_version": "1.2.0",
            "_view_name": "LayoutView",
            "align_content": null,
            "align_items": null,
            "align_self": null,
            "border": null,
            "bottom": null,
            "display": null,
            "flex": null,
            "flex_flow": null,
            "grid_area": null,
            "grid_auto_columns": null,
            "grid_auto_flow": null,
            "grid_auto_rows": null,
            "grid_column": null,
            "grid_gap": null,
            "grid_row": null,
            "grid_template_areas": null,
            "grid_template_columns": null,
            "grid_template_rows": null,
            "height": null,
            "justify_content": null,
            "justify_items": null,
            "left": null,
            "margin": null,
            "max_height": null,
            "max_width": null,
            "min_height": null,
            "min_width": null,
            "object_fit": null,
            "object_position": null,
            "order": null,
            "overflow": null,
            "overflow_x": null,
            "overflow_y": null,
            "padding": null,
            "right": null,
            "top": null,
            "visibility": null,
            "width": null
          }
        },
        "6669f56ed0634ab4984843dc3cfff974": {
          "model_module": "@jupyter-widgets/base",
          "model_name": "LayoutModel",
          "model_module_version": "1.2.0",
          "state": {
            "_model_module": "@jupyter-widgets/base",
            "_model_module_version": "1.2.0",
            "_model_name": "LayoutModel",
            "_view_count": null,
            "_view_module": "@jupyter-widgets/base",
            "_view_module_version": "1.2.0",
            "_view_name": "LayoutView",
            "align_content": null,
            "align_items": null,
            "align_self": null,
            "border": null,
            "bottom": null,
            "display": null,
            "flex": null,
            "flex_flow": null,
            "grid_area": null,
            "grid_auto_columns": null,
            "grid_auto_flow": null,
            "grid_auto_rows": null,
            "grid_column": null,
            "grid_gap": null,
            "grid_row": null,
            "grid_template_areas": null,
            "grid_template_columns": null,
            "grid_template_rows": null,
            "height": null,
            "justify_content": null,
            "justify_items": null,
            "left": null,
            "margin": null,
            "max_height": null,
            "max_width": null,
            "min_height": null,
            "min_width": null,
            "object_fit": null,
            "object_position": null,
            "order": null,
            "overflow": null,
            "overflow_x": null,
            "overflow_y": null,
            "padding": null,
            "right": null,
            "top": null,
            "visibility": null,
            "width": null
          }
        },
        "2db76bc5ff0341b9ad02133dcd905416": {
          "model_module": "@jupyter-widgets/controls",
          "model_name": "DescriptionStyleModel",
          "model_module_version": "1.5.0",
          "state": {
            "_model_module": "@jupyter-widgets/controls",
            "_model_module_version": "1.5.0",
            "_model_name": "DescriptionStyleModel",
            "_view_count": null,
            "_view_module": "@jupyter-widgets/base",
            "_view_module_version": "1.2.0",
            "_view_name": "StyleView",
            "description_width": ""
          }
        },
        "df82f18070dd46da82a8f2793f071397": {
          "model_module": "@jupyter-widgets/base",
          "model_name": "LayoutModel",
          "model_module_version": "1.2.0",
          "state": {
            "_model_module": "@jupyter-widgets/base",
            "_model_module_version": "1.2.0",
            "_model_name": "LayoutModel",
            "_view_count": null,
            "_view_module": "@jupyter-widgets/base",
            "_view_module_version": "1.2.0",
            "_view_name": "LayoutView",
            "align_content": null,
            "align_items": null,
            "align_self": null,
            "border": null,
            "bottom": null,
            "display": null,
            "flex": null,
            "flex_flow": null,
            "grid_area": null,
            "grid_auto_columns": null,
            "grid_auto_flow": null,
            "grid_auto_rows": null,
            "grid_column": null,
            "grid_gap": null,
            "grid_row": null,
            "grid_template_areas": null,
            "grid_template_columns": null,
            "grid_template_rows": null,
            "height": null,
            "justify_content": null,
            "justify_items": null,
            "left": null,
            "margin": null,
            "max_height": null,
            "max_width": null,
            "min_height": null,
            "min_width": null,
            "object_fit": null,
            "object_position": null,
            "order": null,
            "overflow": null,
            "overflow_x": null,
            "overflow_y": null,
            "padding": null,
            "right": null,
            "top": null,
            "visibility": null,
            "width": null
          }
        },
        "31b1592df8ee48a4a5e9c5345c399f41": {
          "model_module": "@jupyter-widgets/controls",
          "model_name": "ProgressStyleModel",
          "model_module_version": "1.5.0",
          "state": {
            "_model_module": "@jupyter-widgets/controls",
            "_model_module_version": "1.5.0",
            "_model_name": "ProgressStyleModel",
            "_view_count": null,
            "_view_module": "@jupyter-widgets/base",
            "_view_module_version": "1.2.0",
            "_view_name": "StyleView",
            "bar_color": null,
            "description_width": ""
          }
        },
        "884dd2ae449944bcb7190c57d8335647": {
          "model_module": "@jupyter-widgets/base",
          "model_name": "LayoutModel",
          "model_module_version": "1.2.0",
          "state": {
            "_model_module": "@jupyter-widgets/base",
            "_model_module_version": "1.2.0",
            "_model_name": "LayoutModel",
            "_view_count": null,
            "_view_module": "@jupyter-widgets/base",
            "_view_module_version": "1.2.0",
            "_view_name": "LayoutView",
            "align_content": null,
            "align_items": null,
            "align_self": null,
            "border": null,
            "bottom": null,
            "display": null,
            "flex": null,
            "flex_flow": null,
            "grid_area": null,
            "grid_auto_columns": null,
            "grid_auto_flow": null,
            "grid_auto_rows": null,
            "grid_column": null,
            "grid_gap": null,
            "grid_row": null,
            "grid_template_areas": null,
            "grid_template_columns": null,
            "grid_template_rows": null,
            "height": null,
            "justify_content": null,
            "justify_items": null,
            "left": null,
            "margin": null,
            "max_height": null,
            "max_width": null,
            "min_height": null,
            "min_width": null,
            "object_fit": null,
            "object_position": null,
            "order": null,
            "overflow": null,
            "overflow_x": null,
            "overflow_y": null,
            "padding": null,
            "right": null,
            "top": null,
            "visibility": null,
            "width": null
          }
        },
        "5b807f70b34447e5968ffb24e957208a": {
          "model_module": "@jupyter-widgets/controls",
          "model_name": "DescriptionStyleModel",
          "model_module_version": "1.5.0",
          "state": {
            "_model_module": "@jupyter-widgets/controls",
            "_model_module_version": "1.5.0",
            "_model_name": "DescriptionStyleModel",
            "_view_count": null,
            "_view_module": "@jupyter-widgets/base",
            "_view_module_version": "1.2.0",
            "_view_name": "StyleView",
            "description_width": ""
          }
        },
        "97bfba0f7eb849e7bc0584b1ca212d92": {
          "model_module": "@jupyter-widgets/controls",
          "model_name": "HBoxModel",
          "model_module_version": "1.5.0",
          "state": {
            "_dom_classes": [],
            "_model_module": "@jupyter-widgets/controls",
            "_model_module_version": "1.5.0",
            "_model_name": "HBoxModel",
            "_view_count": null,
            "_view_module": "@jupyter-widgets/controls",
            "_view_module_version": "1.5.0",
            "_view_name": "HBoxView",
            "box_style": "",
            "children": [
              "IPY_MODEL_61cfdf871e7b4198ab038ea51113d148",
              "IPY_MODEL_fbc4969a1f22469ba2093b2aaa41deea",
              "IPY_MODEL_99a693aa44fc4b30b5c5c93a2a8f57d7"
            ],
            "layout": "IPY_MODEL_92e0af22ab214e539912486a7a41ff69"
          }
        },
        "61cfdf871e7b4198ab038ea51113d148": {
          "model_module": "@jupyter-widgets/controls",
          "model_name": "HTMLModel",
          "model_module_version": "1.5.0",
          "state": {
            "_dom_classes": [],
            "_model_module": "@jupyter-widgets/controls",
            "_model_module_version": "1.5.0",
            "_model_name": "HTMLModel",
            "_view_count": null,
            "_view_module": "@jupyter-widgets/controls",
            "_view_module_version": "1.5.0",
            "_view_name": "HTMLView",
            "description": "",
            "description_tooltip": null,
            "layout": "IPY_MODEL_3d4412902e8d444986174f2db7334960",
            "placeholder": "​",
            "style": "IPY_MODEL_1f7036fd6b9f40fc9da784e29d3961b2",
            "value": "100%"
          }
        },
        "fbc4969a1f22469ba2093b2aaa41deea": {
          "model_module": "@jupyter-widgets/controls",
          "model_name": "FloatProgressModel",
          "model_module_version": "1.5.0",
          "state": {
            "_dom_classes": [],
            "_model_module": "@jupyter-widgets/controls",
            "_model_module_version": "1.5.0",
            "_model_name": "FloatProgressModel",
            "_view_count": null,
            "_view_module": "@jupyter-widgets/controls",
            "_view_module_version": "1.5.0",
            "_view_name": "ProgressView",
            "bar_style": "success",
            "description": "",
            "description_tooltip": null,
            "layout": "IPY_MODEL_71157ec9f2ee4f3dac8732867d831792",
            "max": 4542,
            "min": 0,
            "orientation": "horizontal",
            "style": "IPY_MODEL_a82e0ee8fad04a9b8204901d5ec950cd",
            "value": 4542
          }
        },
        "99a693aa44fc4b30b5c5c93a2a8f57d7": {
          "model_module": "@jupyter-widgets/controls",
          "model_name": "HTMLModel",
          "model_module_version": "1.5.0",
          "state": {
            "_dom_classes": [],
            "_model_module": "@jupyter-widgets/controls",
            "_model_module_version": "1.5.0",
            "_model_name": "HTMLModel",
            "_view_count": null,
            "_view_module": "@jupyter-widgets/controls",
            "_view_module_version": "1.5.0",
            "_view_name": "HTMLView",
            "description": "",
            "description_tooltip": null,
            "layout": "IPY_MODEL_64a6133def704760adf772413e0a8041",
            "placeholder": "​",
            "style": "IPY_MODEL_21031ae863564db8942f2aaf725d557f",
            "value": " 4542/4542 [00:00&lt;00:00, 103776.31it/s]"
          }
        },
        "92e0af22ab214e539912486a7a41ff69": {
          "model_module": "@jupyter-widgets/base",
          "model_name": "LayoutModel",
          "model_module_version": "1.2.0",
          "state": {
            "_model_module": "@jupyter-widgets/base",
            "_model_module_version": "1.2.0",
            "_model_name": "LayoutModel",
            "_view_count": null,
            "_view_module": "@jupyter-widgets/base",
            "_view_module_version": "1.2.0",
            "_view_name": "LayoutView",
            "align_content": null,
            "align_items": null,
            "align_self": null,
            "border": null,
            "bottom": null,
            "display": null,
            "flex": null,
            "flex_flow": null,
            "grid_area": null,
            "grid_auto_columns": null,
            "grid_auto_flow": null,
            "grid_auto_rows": null,
            "grid_column": null,
            "grid_gap": null,
            "grid_row": null,
            "grid_template_areas": null,
            "grid_template_columns": null,
            "grid_template_rows": null,
            "height": null,
            "justify_content": null,
            "justify_items": null,
            "left": null,
            "margin": null,
            "max_height": null,
            "max_width": null,
            "min_height": null,
            "min_width": null,
            "object_fit": null,
            "object_position": null,
            "order": null,
            "overflow": null,
            "overflow_x": null,
            "overflow_y": null,
            "padding": null,
            "right": null,
            "top": null,
            "visibility": null,
            "width": null
          }
        },
        "3d4412902e8d444986174f2db7334960": {
          "model_module": "@jupyter-widgets/base",
          "model_name": "LayoutModel",
          "model_module_version": "1.2.0",
          "state": {
            "_model_module": "@jupyter-widgets/base",
            "_model_module_version": "1.2.0",
            "_model_name": "LayoutModel",
            "_view_count": null,
            "_view_module": "@jupyter-widgets/base",
            "_view_module_version": "1.2.0",
            "_view_name": "LayoutView",
            "align_content": null,
            "align_items": null,
            "align_self": null,
            "border": null,
            "bottom": null,
            "display": null,
            "flex": null,
            "flex_flow": null,
            "grid_area": null,
            "grid_auto_columns": null,
            "grid_auto_flow": null,
            "grid_auto_rows": null,
            "grid_column": null,
            "grid_gap": null,
            "grid_row": null,
            "grid_template_areas": null,
            "grid_template_columns": null,
            "grid_template_rows": null,
            "height": null,
            "justify_content": null,
            "justify_items": null,
            "left": null,
            "margin": null,
            "max_height": null,
            "max_width": null,
            "min_height": null,
            "min_width": null,
            "object_fit": null,
            "object_position": null,
            "order": null,
            "overflow": null,
            "overflow_x": null,
            "overflow_y": null,
            "padding": null,
            "right": null,
            "top": null,
            "visibility": null,
            "width": null
          }
        },
        "1f7036fd6b9f40fc9da784e29d3961b2": {
          "model_module": "@jupyter-widgets/controls",
          "model_name": "DescriptionStyleModel",
          "model_module_version": "1.5.0",
          "state": {
            "_model_module": "@jupyter-widgets/controls",
            "_model_module_version": "1.5.0",
            "_model_name": "DescriptionStyleModel",
            "_view_count": null,
            "_view_module": "@jupyter-widgets/base",
            "_view_module_version": "1.2.0",
            "_view_name": "StyleView",
            "description_width": ""
          }
        },
        "71157ec9f2ee4f3dac8732867d831792": {
          "model_module": "@jupyter-widgets/base",
          "model_name": "LayoutModel",
          "model_module_version": "1.2.0",
          "state": {
            "_model_module": "@jupyter-widgets/base",
            "_model_module_version": "1.2.0",
            "_model_name": "LayoutModel",
            "_view_count": null,
            "_view_module": "@jupyter-widgets/base",
            "_view_module_version": "1.2.0",
            "_view_name": "LayoutView",
            "align_content": null,
            "align_items": null,
            "align_self": null,
            "border": null,
            "bottom": null,
            "display": null,
            "flex": null,
            "flex_flow": null,
            "grid_area": null,
            "grid_auto_columns": null,
            "grid_auto_flow": null,
            "grid_auto_rows": null,
            "grid_column": null,
            "grid_gap": null,
            "grid_row": null,
            "grid_template_areas": null,
            "grid_template_columns": null,
            "grid_template_rows": null,
            "height": null,
            "justify_content": null,
            "justify_items": null,
            "left": null,
            "margin": null,
            "max_height": null,
            "max_width": null,
            "min_height": null,
            "min_width": null,
            "object_fit": null,
            "object_position": null,
            "order": null,
            "overflow": null,
            "overflow_x": null,
            "overflow_y": null,
            "padding": null,
            "right": null,
            "top": null,
            "visibility": null,
            "width": null
          }
        },
        "a82e0ee8fad04a9b8204901d5ec950cd": {
          "model_module": "@jupyter-widgets/controls",
          "model_name": "ProgressStyleModel",
          "model_module_version": "1.5.0",
          "state": {
            "_model_module": "@jupyter-widgets/controls",
            "_model_module_version": "1.5.0",
            "_model_name": "ProgressStyleModel",
            "_view_count": null,
            "_view_module": "@jupyter-widgets/base",
            "_view_module_version": "1.2.0",
            "_view_name": "StyleView",
            "bar_color": null,
            "description_width": ""
          }
        },
        "64a6133def704760adf772413e0a8041": {
          "model_module": "@jupyter-widgets/base",
          "model_name": "LayoutModel",
          "model_module_version": "1.2.0",
          "state": {
            "_model_module": "@jupyter-widgets/base",
            "_model_module_version": "1.2.0",
            "_model_name": "LayoutModel",
            "_view_count": null,
            "_view_module": "@jupyter-widgets/base",
            "_view_module_version": "1.2.0",
            "_view_name": "LayoutView",
            "align_content": null,
            "align_items": null,
            "align_self": null,
            "border": null,
            "bottom": null,
            "display": null,
            "flex": null,
            "flex_flow": null,
            "grid_area": null,
            "grid_auto_columns": null,
            "grid_auto_flow": null,
            "grid_auto_rows": null,
            "grid_column": null,
            "grid_gap": null,
            "grid_row": null,
            "grid_template_areas": null,
            "grid_template_columns": null,
            "grid_template_rows": null,
            "height": null,
            "justify_content": null,
            "justify_items": null,
            "left": null,
            "margin": null,
            "max_height": null,
            "max_width": null,
            "min_height": null,
            "min_width": null,
            "object_fit": null,
            "object_position": null,
            "order": null,
            "overflow": null,
            "overflow_x": null,
            "overflow_y": null,
            "padding": null,
            "right": null,
            "top": null,
            "visibility": null,
            "width": null
          }
        },
        "21031ae863564db8942f2aaf725d557f": {
          "model_module": "@jupyter-widgets/controls",
          "model_name": "DescriptionStyleModel",
          "model_module_version": "1.5.0",
          "state": {
            "_model_module": "@jupyter-widgets/controls",
            "_model_module_version": "1.5.0",
            "_model_name": "DescriptionStyleModel",
            "_view_count": null,
            "_view_module": "@jupyter-widgets/base",
            "_view_module_version": "1.2.0",
            "_view_name": "StyleView",
            "description_width": ""
          }
        }
      }
    }
  },
  "nbformat": 4,
  "nbformat_minor": 0
}